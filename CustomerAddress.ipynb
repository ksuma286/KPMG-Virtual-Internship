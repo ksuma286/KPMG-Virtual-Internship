{
 "cells": [
  {
   "cell_type": "code",
   "execution_count": 37,
   "id": "75a5fba9",
   "metadata": {},
   "outputs": [],
   "source": [
    "import pandas as pd"
   ]
  },
  {
   "cell_type": "code",
   "execution_count": 38,
   "id": "2d037667",
   "metadata": {},
   "outputs": [],
   "source": [
    "df=pd.read_excel('CustomerAddress.xlsx')"
   ]
  },
  {
   "cell_type": "code",
   "execution_count": 39,
   "id": "f8795f90",
   "metadata": {},
   "outputs": [
    {
     "data": {
      "text/html": [
       "<div>\n",
       "<style scoped>\n",
       "    .dataframe tbody tr th:only-of-type {\n",
       "        vertical-align: middle;\n",
       "    }\n",
       "\n",
       "    .dataframe tbody tr th {\n",
       "        vertical-align: top;\n",
       "    }\n",
       "\n",
       "    .dataframe thead th {\n",
       "        text-align: right;\n",
       "    }\n",
       "</style>\n",
       "<table border=\"1\" class=\"dataframe\">\n",
       "  <thead>\n",
       "    <tr style=\"text-align: right;\">\n",
       "      <th></th>\n",
       "      <th>Note: The data and information in this document is reflective of a hypothetical situation and client. This document is to be used for KPMG Virtual Internship purposes only.</th>\n",
       "      <th>Unnamed: 1</th>\n",
       "      <th>Unnamed: 2</th>\n",
       "      <th>Unnamed: 3</th>\n",
       "      <th>Unnamed: 4</th>\n",
       "      <th>Unnamed: 5</th>\n",
       "    </tr>\n",
       "  </thead>\n",
       "  <tbody>\n",
       "    <tr>\n",
       "      <th>0</th>\n",
       "      <td>customer_id</td>\n",
       "      <td>address</td>\n",
       "      <td>postcode</td>\n",
       "      <td>state</td>\n",
       "      <td>country</td>\n",
       "      <td>property_valuation</td>\n",
       "    </tr>\n",
       "    <tr>\n",
       "      <th>1</th>\n",
       "      <td>1.0</td>\n",
       "      <td>060 Morning Avenue</td>\n",
       "      <td>2016.0</td>\n",
       "      <td>New South Wales</td>\n",
       "      <td>Australia</td>\n",
       "      <td>10.0</td>\n",
       "    </tr>\n",
       "    <tr>\n",
       "      <th>2</th>\n",
       "      <td>2.0</td>\n",
       "      <td>6 Meadow Vale Court</td>\n",
       "      <td>2153.0</td>\n",
       "      <td>New South Wales</td>\n",
       "      <td>Australia</td>\n",
       "      <td>10.0</td>\n",
       "    </tr>\n",
       "    <tr>\n",
       "      <th>3</th>\n",
       "      <td>4.0</td>\n",
       "      <td>0 Holy Cross Court</td>\n",
       "      <td>4211.0</td>\n",
       "      <td>QLD</td>\n",
       "      <td>Australia</td>\n",
       "      <td>9.0</td>\n",
       "    </tr>\n",
       "    <tr>\n",
       "      <th>4</th>\n",
       "      <td>5.0</td>\n",
       "      <td>17979 Del Mar Point</td>\n",
       "      <td>2448.0</td>\n",
       "      <td>New South Wales</td>\n",
       "      <td>Australia</td>\n",
       "      <td>4.0</td>\n",
       "    </tr>\n",
       "  </tbody>\n",
       "</table>\n",
       "</div>"
      ],
      "text/plain": [
       "  Note: The data and information in this document is reflective of a hypothetical situation and client. This document is to be used for KPMG Virtual Internship purposes only.   \\\n",
       "0                                        customer_id                                                                                                                              \n",
       "1                                                1.0                                                                                                                              \n",
       "2                                                2.0                                                                                                                              \n",
       "3                                                4.0                                                                                                                              \n",
       "4                                                5.0                                                                                                                              \n",
       "\n",
       "            Unnamed: 1 Unnamed: 2       Unnamed: 3 Unnamed: 4  \\\n",
       "0              address   postcode            state    country   \n",
       "1   060 Morning Avenue     2016.0  New South Wales  Australia   \n",
       "2  6 Meadow Vale Court     2153.0  New South Wales  Australia   \n",
       "3   0 Holy Cross Court     4211.0              QLD  Australia   \n",
       "4  17979 Del Mar Point     2448.0  New South Wales  Australia   \n",
       "\n",
       "           Unnamed: 5  \n",
       "0  property_valuation  \n",
       "1                10.0  \n",
       "2                10.0  \n",
       "3                 9.0  \n",
       "4                 4.0  "
      ]
     },
     "execution_count": 39,
     "metadata": {},
     "output_type": "execute_result"
    }
   ],
   "source": [
    "df.head()"
   ]
  },
  {
   "cell_type": "code",
   "execution_count": 40,
   "id": "cd75008b",
   "metadata": {},
   "outputs": [],
   "source": [
    "df.columns=df.iloc[0]#marking header"
   ]
  },
  {
   "cell_type": "code",
   "execution_count": 41,
   "id": "c2a59ab8",
   "metadata": {},
   "outputs": [
    {
     "data": {
      "text/html": [
       "<div>\n",
       "<style scoped>\n",
       "    .dataframe tbody tr th:only-of-type {\n",
       "        vertical-align: middle;\n",
       "    }\n",
       "\n",
       "    .dataframe tbody tr th {\n",
       "        vertical-align: top;\n",
       "    }\n",
       "\n",
       "    .dataframe thead th {\n",
       "        text-align: right;\n",
       "    }\n",
       "</style>\n",
       "<table border=\"1\" class=\"dataframe\">\n",
       "  <thead>\n",
       "    <tr style=\"text-align: right;\">\n",
       "      <th></th>\n",
       "      <th>customer_id</th>\n",
       "      <th>address</th>\n",
       "      <th>postcode</th>\n",
       "      <th>state</th>\n",
       "      <th>country</th>\n",
       "      <th>property_valuation</th>\n",
       "    </tr>\n",
       "  </thead>\n",
       "  <tbody>\n",
       "    <tr>\n",
       "      <th>0</th>\n",
       "      <td>customer_id</td>\n",
       "      <td>address</td>\n",
       "      <td>postcode</td>\n",
       "      <td>state</td>\n",
       "      <td>country</td>\n",
       "      <td>property_valuation</td>\n",
       "    </tr>\n",
       "    <tr>\n",
       "      <th>1</th>\n",
       "      <td>1.0</td>\n",
       "      <td>060 Morning Avenue</td>\n",
       "      <td>2016.0</td>\n",
       "      <td>New South Wales</td>\n",
       "      <td>Australia</td>\n",
       "      <td>10.0</td>\n",
       "    </tr>\n",
       "    <tr>\n",
       "      <th>2</th>\n",
       "      <td>2.0</td>\n",
       "      <td>6 Meadow Vale Court</td>\n",
       "      <td>2153.0</td>\n",
       "      <td>New South Wales</td>\n",
       "      <td>Australia</td>\n",
       "      <td>10.0</td>\n",
       "    </tr>\n",
       "    <tr>\n",
       "      <th>3</th>\n",
       "      <td>4.0</td>\n",
       "      <td>0 Holy Cross Court</td>\n",
       "      <td>4211.0</td>\n",
       "      <td>QLD</td>\n",
       "      <td>Australia</td>\n",
       "      <td>9.0</td>\n",
       "    </tr>\n",
       "    <tr>\n",
       "      <th>4</th>\n",
       "      <td>5.0</td>\n",
       "      <td>17979 Del Mar Point</td>\n",
       "      <td>2448.0</td>\n",
       "      <td>New South Wales</td>\n",
       "      <td>Australia</td>\n",
       "      <td>4.0</td>\n",
       "    </tr>\n",
       "  </tbody>\n",
       "</table>\n",
       "</div>"
      ],
      "text/plain": [
       "0  customer_id              address  postcode            state    country  \\\n",
       "0  customer_id              address  postcode            state    country   \n",
       "1          1.0   060 Morning Avenue    2016.0  New South Wales  Australia   \n",
       "2          2.0  6 Meadow Vale Court    2153.0  New South Wales  Australia   \n",
       "3          4.0   0 Holy Cross Court    4211.0              QLD  Australia   \n",
       "4          5.0  17979 Del Mar Point    2448.0  New South Wales  Australia   \n",
       "\n",
       "0  property_valuation  \n",
       "0  property_valuation  \n",
       "1                10.0  \n",
       "2                10.0  \n",
       "3                 9.0  \n",
       "4                 4.0  "
      ]
     },
     "execution_count": 41,
     "metadata": {},
     "output_type": "execute_result"
    }
   ],
   "source": [
    "df.head()"
   ]
  },
  {
   "cell_type": "code",
   "execution_count": 42,
   "id": "b93d09df",
   "metadata": {},
   "outputs": [],
   "source": [
    "df.drop(0,axis=0,inplace=True)#removing extra header like row"
   ]
  },
  {
   "cell_type": "code",
   "execution_count": 43,
   "id": "0f4b340f",
   "metadata": {},
   "outputs": [
    {
     "name": "stdout",
     "output_type": "stream",
     "text": [
      "<class 'pandas.core.frame.DataFrame'>\n",
      "Int64Index: 3999 entries, 1 to 3999\n",
      "Data columns (total 6 columns):\n",
      " #   Column              Non-Null Count  Dtype \n",
      "---  ------              --------------  ----- \n",
      " 0   customer_id         3999 non-null   object\n",
      " 1   address             3999 non-null   object\n",
      " 2   postcode            3999 non-null   object\n",
      " 3   state               3999 non-null   object\n",
      " 4   country             3999 non-null   object\n",
      " 5   property_valuation  3999 non-null   object\n",
      "dtypes: object(6)\n",
      "memory usage: 218.7+ KB\n"
     ]
    }
   ],
   "source": [
    "df.info()"
   ]
  },
  {
   "cell_type": "code",
   "execution_count": 44,
   "id": "3504d8c0",
   "metadata": {},
   "outputs": [],
   "source": [
    "df['property_valuation']=df['property_valuation'].astype('float')#changing datatype to numeric"
   ]
  },
  {
   "cell_type": "code",
   "execution_count": 45,
   "id": "da1beb82",
   "metadata": {},
   "outputs": [
    {
     "data": {
      "text/plain": [
       "(3999, 6)"
      ]
     },
     "execution_count": 45,
     "metadata": {},
     "output_type": "execute_result"
    }
   ],
   "source": [
    "df.shape"
   ]
  },
  {
   "cell_type": "code",
   "execution_count": 46,
   "id": "a1767771",
   "metadata": {},
   "outputs": [
    {
     "data": {
      "text/html": [
       "<div>\n",
       "<style scoped>\n",
       "    .dataframe tbody tr th:only-of-type {\n",
       "        vertical-align: middle;\n",
       "    }\n",
       "\n",
       "    .dataframe tbody tr th {\n",
       "        vertical-align: top;\n",
       "    }\n",
       "\n",
       "    .dataframe thead th {\n",
       "        text-align: right;\n",
       "    }\n",
       "</style>\n",
       "<table border=\"1\" class=\"dataframe\">\n",
       "  <thead>\n",
       "    <tr style=\"text-align: right;\">\n",
       "      <th></th>\n",
       "      <th>property_valuation</th>\n",
       "    </tr>\n",
       "  </thead>\n",
       "  <tbody>\n",
       "    <tr>\n",
       "      <th>count</th>\n",
       "      <td>3999.000000</td>\n",
       "    </tr>\n",
       "    <tr>\n",
       "      <th>mean</th>\n",
       "      <td>7.514379</td>\n",
       "    </tr>\n",
       "    <tr>\n",
       "      <th>std</th>\n",
       "      <td>2.824663</td>\n",
       "    </tr>\n",
       "    <tr>\n",
       "      <th>min</th>\n",
       "      <td>1.000000</td>\n",
       "    </tr>\n",
       "    <tr>\n",
       "      <th>25%</th>\n",
       "      <td>6.000000</td>\n",
       "    </tr>\n",
       "    <tr>\n",
       "      <th>50%</th>\n",
       "      <td>8.000000</td>\n",
       "    </tr>\n",
       "    <tr>\n",
       "      <th>75%</th>\n",
       "      <td>10.000000</td>\n",
       "    </tr>\n",
       "    <tr>\n",
       "      <th>max</th>\n",
       "      <td>12.000000</td>\n",
       "    </tr>\n",
       "  </tbody>\n",
       "</table>\n",
       "</div>"
      ],
      "text/plain": [
       "0      property_valuation\n",
       "count         3999.000000\n",
       "mean             7.514379\n",
       "std              2.824663\n",
       "min              1.000000\n",
       "25%              6.000000\n",
       "50%              8.000000\n",
       "75%             10.000000\n",
       "max             12.000000"
      ]
     },
     "execution_count": 46,
     "metadata": {},
     "output_type": "execute_result"
    }
   ],
   "source": [
    "df.describe()"
   ]
  },
  {
   "cell_type": "code",
   "execution_count": 47,
   "id": "e54b0ed3",
   "metadata": {},
   "outputs": [
    {
     "data": {
      "text/plain": [
       "0"
      ]
     },
     "execution_count": 47,
     "metadata": {},
     "output_type": "execute_result"
    }
   ],
   "source": [
    "df.duplicated().sum()"
   ]
  },
  {
   "cell_type": "code",
   "execution_count": 48,
   "id": "cb3910e7",
   "metadata": {},
   "outputs": [
    {
     "data": {
      "text/html": [
       "<div>\n",
       "<style scoped>\n",
       "    .dataframe tbody tr th:only-of-type {\n",
       "        vertical-align: middle;\n",
       "    }\n",
       "\n",
       "    .dataframe tbody tr th {\n",
       "        vertical-align: top;\n",
       "    }\n",
       "\n",
       "    .dataframe thead th {\n",
       "        text-align: right;\n",
       "    }\n",
       "</style>\n",
       "<table border=\"1\" class=\"dataframe\">\n",
       "  <thead>\n",
       "    <tr style=\"text-align: right;\">\n",
       "      <th></th>\n",
       "      <th>customer_id</th>\n",
       "      <th>address</th>\n",
       "      <th>postcode</th>\n",
       "      <th>state</th>\n",
       "      <th>country</th>\n",
       "    </tr>\n",
       "  </thead>\n",
       "  <tbody>\n",
       "    <tr>\n",
       "      <th>count</th>\n",
       "      <td>3999.0</td>\n",
       "      <td>3999</td>\n",
       "      <td>3999.0</td>\n",
       "      <td>3999</td>\n",
       "      <td>3999</td>\n",
       "    </tr>\n",
       "    <tr>\n",
       "      <th>unique</th>\n",
       "      <td>3999.0</td>\n",
       "      <td>3996</td>\n",
       "      <td>873.0</td>\n",
       "      <td>5</td>\n",
       "      <td>1</td>\n",
       "    </tr>\n",
       "    <tr>\n",
       "      <th>top</th>\n",
       "      <td>1.0</td>\n",
       "      <td>3 Mariners Cove Terrace</td>\n",
       "      <td>2170.0</td>\n",
       "      <td>NSW</td>\n",
       "      <td>Australia</td>\n",
       "    </tr>\n",
       "    <tr>\n",
       "      <th>freq</th>\n",
       "      <td>1.0</td>\n",
       "      <td>2</td>\n",
       "      <td>31.0</td>\n",
       "      <td>2054</td>\n",
       "      <td>3999</td>\n",
       "    </tr>\n",
       "  </tbody>\n",
       "</table>\n",
       "</div>"
      ],
      "text/plain": [
       "0       customer_id                  address  postcode state    country\n",
       "count        3999.0                     3999    3999.0  3999       3999\n",
       "unique       3999.0                     3996     873.0     5          1\n",
       "top             1.0  3 Mariners Cove Terrace    2170.0   NSW  Australia\n",
       "freq            1.0                        2      31.0  2054       3999"
      ]
     },
     "execution_count": 48,
     "metadata": {},
     "output_type": "execute_result"
    }
   ],
   "source": [
    "df.describe(include='object')"
   ]
  },
  {
   "cell_type": "code",
   "execution_count": 49,
   "id": "f5dae7f0",
   "metadata": {},
   "outputs": [
    {
     "data": {
      "text/plain": [
       "array(['Australia'], dtype=object)"
      ]
     },
     "execution_count": 49,
     "metadata": {},
     "output_type": "execute_result"
    }
   ],
   "source": [
    "df['country'].unique()"
   ]
  },
  {
   "cell_type": "code",
   "execution_count": 50,
   "id": "b2ad59b7",
   "metadata": {},
   "outputs": [
    {
     "data": {
      "text/plain": [
       "array(['New South Wales', 'QLD', 'VIC', 'NSW', 'Victoria'], dtype=object)"
      ]
     },
     "execution_count": 50,
     "metadata": {},
     "output_type": "execute_result"
    }
   ],
   "source": [
    "df['state'].unique()"
   ]
  },
  {
   "cell_type": "code",
   "execution_count": 51,
   "id": "f6e13cf7",
   "metadata": {},
   "outputs": [],
   "source": [
    "df['state']=df['state'].map({'New South Wales':'NSW','Victoria':'VIC','NSW':'NSW','VIC':'VIC','QLD':'QLD'})"
   ]
  },
  {
   "cell_type": "code",
   "execution_count": 52,
   "id": "782d0182",
   "metadata": {},
   "outputs": [
    {
     "data": {
      "text/plain": [
       "array(['NSW', 'QLD', 'VIC'], dtype=object)"
      ]
     },
     "execution_count": 52,
     "metadata": {},
     "output_type": "execute_result"
    }
   ],
   "source": [
    "df['state'].unique()"
   ]
  },
  {
   "cell_type": "code",
   "execution_count": 53,
   "id": "d69df586",
   "metadata": {},
   "outputs": [
    {
     "data": {
      "text/plain": [
       "3940            81 Monument Avenue\n",
       "3941              093 Mallard Hill\n",
       "3942            903 Sauthoff Plaza\n",
       "3943             9796 Pearson Hill\n",
       "3944             950 Algoma Circle\n",
       "3945               28 Toban Center\n",
       "3946       147 Brickson Park Drive\n",
       "3947          75251 Marquette Lane\n",
       "3948           72 Briar Crest Hill\n",
       "3949          201 Valley Edge Park\n",
       "3950            6031 Susan Terrace\n",
       "3951                  724 Erie Way\n",
       "3952              86906 Hauk Trail\n",
       "3953         85999 Cherokee Street\n",
       "3954             50774 Dennis Park\n",
       "3955            64 Trailsway Place\n",
       "3956            95228 Forster Road\n",
       "3957            388 Shoshone Trail\n",
       "3958    67 Lakewood Gardens Circle\n",
       "3959            98 Transport Plaza\n",
       "3960                35 Larry Plaza\n",
       "3961               9 Hooker Street\n",
       "3962                  4 Debra Hill\n",
       "3963          41 Superior Crossing\n",
       "3964              721 Morrow Plaza\n",
       "3965             8578 Mifflin Pass\n",
       "3966             02 Fair Oaks Lane\n",
       "3967               910 Becker Pass\n",
       "3968            08 Dennis Crossing\n",
       "3969               4 Express Plaza\n",
       "3970          81609 Vernon Terrace\n",
       "3971               37 Hintze Court\n",
       "3972              07 Morning Court\n",
       "3973           327 Loeprich Street\n",
       "3974         5106 Northridge Drive\n",
       "3975    9754 High Crossing Terrace\n",
       "3976           7 Meadow Vale Court\n",
       "3977            80260 Morning Road\n",
       "3978       38017 Briar Crest Drive\n",
       "3979         60 Morningstar Center\n",
       "3980           218 Stuart Junction\n",
       "3981            9 Butterfield Lane\n",
       "3982          614 Burning Wood Way\n",
       "3983                9 Grover Point\n",
       "3984              565 Bunting Park\n",
       "3985         9461 Saint Paul Trail\n",
       "3986            5204 Delaware Pass\n",
       "3987                 24 Scott Pass\n",
       "3988               8 Randy Parkway\n",
       "3989             681 Elmside Place\n",
       "3990        2918 Summer Ridge Hill\n",
       "3991                 613 Erie Lane\n",
       "3992            0 Transport Center\n",
       "3993           4 Dovetail Crossing\n",
       "3994          736 Roxbury Junction\n",
       "3995               1482 Hauk Trail\n",
       "3996     57042 Village Green Point\n",
       "3997        87 Crescent Oaks Alley\n",
       "3998              8194 Lien Street\n",
       "3999               320 Acker Drive\n",
       "Name: address, dtype: object"
      ]
     },
     "execution_count": 53,
     "metadata": {},
     "output_type": "execute_result"
    }
   ],
   "source": [
    "df['address'].tail(60)"
   ]
  },
  {
   "cell_type": "code",
   "execution_count": null,
   "id": "3cde8177",
   "metadata": {},
   "outputs": [],
   "source": []
  }
 ],
 "metadata": {
  "kernelspec": {
   "display_name": "Python 3 (ipykernel)",
   "language": "python",
   "name": "python3"
  },
  "language_info": {
   "codemirror_mode": {
    "name": "ipython",
    "version": 3
   },
   "file_extension": ".py",
   "mimetype": "text/x-python",
   "name": "python",
   "nbconvert_exporter": "python",
   "pygments_lexer": "ipython3",
   "version": "3.9.7"
  }
 },
 "nbformat": 4,
 "nbformat_minor": 5
}
